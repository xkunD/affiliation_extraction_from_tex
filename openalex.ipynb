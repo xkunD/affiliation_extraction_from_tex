{
 "cells": [
  {
   "cell_type": "code",
   "execution_count": 12,
   "metadata": {},
   "outputs": [
    {
     "name": "stdout",
     "output_type": "stream",
     "text": [
      "{'id': 'https://openalex.org/W4225463478', 'doi': 'https://doi.org/10.48550/arxiv.2201.00006', 'title': 'Leveraging Queue Length and Attention Mechanisms for Enhanced Traffic Signal Control Optimization', 'display_name': 'Leveraging Queue Length and Attention Mechanisms for Enhanced Traffic Signal Control Optimization', 'publication_year': 2022, 'publication_date': '2022-01-01', 'ids': {'openalex': 'https://openalex.org/W4225463478', 'doi': 'https://doi.org/10.48550/arxiv.2201.00006'}, 'language': 'en', 'primary_location': {'is_oa': True, 'landing_page_url': 'https://arxiv.org/abs/2201.00006', 'pdf_url': None, 'source': {'id': 'https://openalex.org/S4306400194', 'display_name': 'arXiv (Cornell University)', 'issn_l': None, 'issn': None, 'is_oa': True, 'is_in_doaj': False, 'is_core': False, 'host_organization': 'https://openalex.org/I205783295', 'host_organization_name': 'Cornell University', 'host_organization_lineage': ['https://openalex.org/I205783295'], 'host_organization_lineage_names': ['Cornell University'], 'type': 'repository'}, 'license': 'other-oa', 'license_id': 'https://openalex.org/licenses/other-oa', 'version': 'submittedVersion', 'is_accepted': False, 'is_published': False}, 'type': 'preprint', 'type_crossref': 'posted-content', 'indexed_in': ['arxiv', 'datacite'], 'open_access': {'is_oa': True, 'oa_status': 'green', 'oa_url': 'https://arxiv.org/abs/2201.00006', 'any_repository_has_fulltext': True}, 'authorships': [{'author_position': 'first', 'author': {'id': 'https://openalex.org/A5100425166', 'display_name': 'Liang Zhang', 'orcid': 'https://orcid.org/0000-0001-9683-7718'}, 'institutions': [], 'countries': [], 'is_corresponding': False, 'raw_author_name': 'Zhang, Liang', 'raw_affiliation_strings': [], 'affiliations': []}, {'author_position': 'middle', 'author': {'id': 'https://openalex.org/A5100694044', 'display_name': 'Qiang Wu', 'orcid': 'https://orcid.org/0000-0003-0655-0479'}, 'institutions': [], 'countries': [], 'is_corresponding': False, 'raw_author_name': 'Wu, Qiang', 'raw_affiliation_strings': [], 'affiliations': []}, {'author_position': 'last', 'author': {'id': 'https://openalex.org/A5112770436', 'display_name': 'Jianming Deng', 'orcid': None}, 'institutions': [], 'countries': [], 'is_corresponding': False, 'raw_author_name': 'Deng, Jianming', 'raw_affiliation_strings': [], 'affiliations': []}], 'institution_assertions': [], 'countries_distinct_count': 0, 'institutions_distinct_count': 0, 'corresponding_author_ids': [], 'corresponding_institution_ids': [], 'apc_list': None, 'apc_paid': None, 'fwci': None, 'has_fulltext': False, 'cited_by_count': 1, 'citation_normalized_percentile': {'value': 0.780344, 'is_in_top_1_percent': False, 'is_in_top_10_percent': False}, 'cited_by_percentile_year': {'min': 61, 'max': 71}, 'biblio': {'volume': None, 'issue': None, 'first_page': None, 'last_page': None}, 'is_retracted': False, 'is_paratext': False, 'primary_topic': {'id': 'https://openalex.org/T10524', 'display_name': 'Modeling and Control of Traffic Flow Systems', 'score': 0.9991, 'subfield': {'id': 'https://openalex.org/subfields/2207', 'display_name': 'Control and Systems Engineering'}, 'field': {'id': 'https://openalex.org/fields/22', 'display_name': 'Engineering'}, 'domain': {'id': 'https://openalex.org/domains/3', 'display_name': 'Physical Sciences'}}, 'topics': [{'id': 'https://openalex.org/T10524', 'display_name': 'Modeling and Control of Traffic Flow Systems', 'score': 0.9991, 'subfield': {'id': 'https://openalex.org/subfields/2207', 'display_name': 'Control and Systems Engineering'}, 'field': {'id': 'https://openalex.org/fields/22', 'display_name': 'Engineering'}, 'domain': {'id': 'https://openalex.org/domains/3', 'display_name': 'Physical Sciences'}}, {'id': 'https://openalex.org/T11344', 'display_name': 'Traffic Flow Prediction and Forecasting', 'score': 0.999, 'subfield': {'id': 'https://openalex.org/subfields/2215', 'display_name': 'Building and Construction'}, 'field': {'id': 'https://openalex.org/fields/22', 'display_name': 'Engineering'}, 'domain': {'id': 'https://openalex.org/domains/3', 'display_name': 'Physical Sciences'}}, {'id': 'https://openalex.org/T10698', 'display_name': 'Understanding Attitudes Towards Public Transport and Private Car', 'score': 0.9808, 'subfield': {'id': 'https://openalex.org/subfields/3313', 'display_name': 'Transportation'}, 'field': {'id': 'https://openalex.org/fields/33', 'display_name': 'Social Sciences'}, 'domain': {'id': 'https://openalex.org/domains/2', 'display_name': 'Social Sciences'}}], 'keywords': [{'id': 'https://openalex.org/keywords/traffic-signal-control', 'display_name': 'Traffic Signal Control', 'score': 0.586779}, {'id': 'https://openalex.org/keywords/code', 'display_name': 'Code (set theory)', 'score': 0.5668776}, {'id': 'https://openalex.org/keywords/representation', 'display_name': 'Representation (politics)', 'score': 0.5626574}, {'id': 'https://openalex.org/keywords/signal', 'display_name': 'SIGNAL (programming language)', 'score': 0.5541415}, {'id': 'https://openalex.org/keywords/traffic-flow', 'display_name': 'Traffic Flow', 'score': 0.518215}, {'id': 'https://openalex.org/keywords/traffic-assignment', 'display_name': 'Traffic Assignment', 'score': 0.506148}, {'id': 'https://openalex.org/keywords/reinforcement-learning', 'display_name': 'Reinforcement Learning', 'score': 0.506065}, {'id': 'https://openalex.org/keywords/popularity', 'display_name': 'Popularity', 'score': 0.45047718}], 'concepts': [{'id': 'https://openalex.org/C41008148', 'wikidata': 'https://www.wikidata.org/wiki/Q21198', 'display_name': 'Computer science', 'level': 0, 'score': 0.80540407}, {'id': 'https://openalex.org/C97541855', 'wikidata': 'https://www.wikidata.org/wiki/Q830687', 'display_name': 'Reinforcement learning', 'level': 2, 'score': 0.76693404}, {'id': 'https://openalex.org/C160403385', 'wikidata': 'https://www.wikidata.org/wiki/Q220543', 'display_name': 'Queue', 'level': 2, 'score': 0.7258498}, {'id': 'https://openalex.org/C2776760102', 'wikidata': 'https://www.wikidata.org/wiki/Q5139990', 'display_name': 'Code (set theory)', 'level': 3, 'score': 0.5668776}, {'id': 'https://openalex.org/C2776359362', 'wikidata': 'https://www.wikidata.org/wiki/Q2145286', 'display_name': 'Representation (politics)', 'level': 3, 'score': 0.5626574}, {'id': 'https://openalex.org/C2779843651', 'wikidata': 'https://www.wikidata.org/wiki/Q7390335', 'display_name': 'SIGNAL (programming language)', 'level': 2, 'score': 0.5541415}, {'id': 'https://openalex.org/C2780586970', 'wikidata': 'https://www.wikidata.org/wiki/Q1357284', 'display_name': 'Popularity', 'level': 2, 'score': 0.45047718}, {'id': 'https://openalex.org/C48103436', 'wikidata': 'https://www.wikidata.org/wiki/Q599031', 'display_name': 'State (computer science)', 'level': 2, 'score': 0.42821285}, {'id': 'https://openalex.org/C2775924081', 'wikidata': 'https://www.wikidata.org/wiki/Q55608371', 'display_name': 'Control (management)', 'level': 2, 'score': 0.41918582}, {'id': 'https://openalex.org/C154945302', 'wikidata': 'https://www.wikidata.org/wiki/Q11660', 'display_name': 'Artificial intelligence', 'level': 1, 'score': 0.41203427}, {'id': 'https://openalex.org/C11413529', 'wikidata': 'https://www.wikidata.org/wiki/Q8366', 'display_name': 'Algorithm', 'level': 1, 'score': 0.24755463}, {'id': 'https://openalex.org/C31258907', 'wikidata': 'https://www.wikidata.org/wiki/Q1301371', 'display_name': 'Computer network', 'level': 1, 'score': 0.06480098}, {'id': 'https://openalex.org/C15744967', 'wikidata': 'https://www.wikidata.org/wiki/Q9418', 'display_name': 'Psychology', 'level': 0, 'score': 0.0}, {'id': 'https://openalex.org/C77805123', 'wikidata': 'https://www.wikidata.org/wiki/Q161272', 'display_name': 'Social psychology', 'level': 1, 'score': 0.0}, {'id': 'https://openalex.org/C94625758', 'wikidata': 'https://www.wikidata.org/wiki/Q7163', 'display_name': 'Politics', 'level': 2, 'score': 0.0}, {'id': 'https://openalex.org/C17744445', 'wikidata': 'https://www.wikidata.org/wiki/Q36442', 'display_name': 'Political science', 'level': 0, 'score': 0.0}, {'id': 'https://openalex.org/C199539241', 'wikidata': 'https://www.wikidata.org/wiki/Q7748', 'display_name': 'Law', 'level': 1, 'score': 0.0}, {'id': 'https://openalex.org/C199360897', 'wikidata': 'https://www.wikidata.org/wiki/Q9143', 'display_name': 'Programming language', 'level': 1, 'score': 0.0}, {'id': 'https://openalex.org/C177264268', 'wikidata': 'https://www.wikidata.org/wiki/Q1514741', 'display_name': 'Set (abstract data type)', 'level': 2, 'score': 0.0}], 'mesh': [], 'locations_count': 2, 'locations': [{'is_oa': True, 'landing_page_url': 'https://arxiv.org/abs/2201.00006', 'pdf_url': None, 'source': {'id': 'https://openalex.org/S4306400194', 'display_name': 'arXiv (Cornell University)', 'issn_l': None, 'issn': None, 'is_oa': True, 'is_in_doaj': False, 'is_core': False, 'host_organization': 'https://openalex.org/I205783295', 'host_organization_name': 'Cornell University', 'host_organization_lineage': ['https://openalex.org/I205783295'], 'host_organization_lineage_names': ['Cornell University'], 'type': 'repository'}, 'license': 'other-oa', 'license_id': 'https://openalex.org/licenses/other-oa', 'version': 'submittedVersion', 'is_accepted': False, 'is_published': False}, {'is_oa': False, 'landing_page_url': 'https://api.datacite.org/dois/10.48550/arxiv.2201.00006', 'pdf_url': None, 'source': {'id': 'https://openalex.org/S4393179698', 'display_name': 'DataCite API', 'issn_l': None, 'issn': None, 'is_oa': True, 'is_in_doaj': False, 'is_core': False, 'host_organization': 'https://openalex.org/I4210145204', 'host_organization_name': 'DataCite', 'host_organization_lineage': ['https://openalex.org/I4210145204'], 'host_organization_lineage_names': ['DataCite'], 'type': 'metadata'}, 'license': None, 'license_id': None, 'version': None}], 'best_oa_location': {'is_oa': True, 'landing_page_url': 'https://arxiv.org/abs/2201.00006', 'pdf_url': None, 'source': {'id': 'https://openalex.org/S4306400194', 'display_name': 'arXiv (Cornell University)', 'issn_l': None, 'issn': None, 'is_oa': True, 'is_in_doaj': False, 'is_core': False, 'host_organization': 'https://openalex.org/I205783295', 'host_organization_name': 'Cornell University', 'host_organization_lineage': ['https://openalex.org/I205783295'], 'host_organization_lineage_names': ['Cornell University'], 'type': 'repository'}, 'license': 'other-oa', 'license_id': 'https://openalex.org/licenses/other-oa', 'version': 'submittedVersion', 'is_accepted': False, 'is_published': False}, 'sustainable_development_goals': [], 'grants': [], 'datasets': [], 'versions': [], 'referenced_works_count': 0, 'referenced_works': [], 'related_works': ['https://openalex.org/W4294565801', 'https://openalex.org/W2952704802', 'https://openalex.org/W2741781807', 'https://openalex.org/W2518037665', 'https://openalex.org/W2477036161', 'https://openalex.org/W2384861574', 'https://openalex.org/W2368605798', 'https://openalex.org/W2368049389', 'https://openalex.org/W2348524959', 'https://openalex.org/W2170801710'], 'abstract_inverted_index': {'Reinforcement': [0], 'learning': [1], '(RL)': [2], 'techniques': [3], 'for': [4, 171], 'traffic': [5, 37, 48], 'signal': [6, 49, 106], 'control': [7], '(TSC)': [8], 'have': [9, 168], 'gained': [10], 'increasing': [11], 'popularity': [12], 'in': [13, 163], 'recent': [14], 'years.': [15], 'However,': [16], 'most': [17], 'existing': [18], 'RL-based': [19, 42, 135], 'TSC': [20, 61, 164, 180], 'methods': [21, 43], 'tend': [22], 'to': [23, 60, 103], 'focus': [24], 'primarily': [25], 'on': [26, 46, 86, 118, 186], 'the': [27, 33, 87, 100, 105, 123, 129, 133, 149, 173], 'RL': [28, 96], 'model': [29, 97], 'structure': [30], 'while': [31], 'neglecting': [32], 'significance': [34, 150], 'of': [35, 89, 113, 125, 151, 175], 'proper': [36, 152], 'state': [38, 69, 153], 'representation.': [39, 70], 'Furthermore,': [40], 'some': [41], 'heavily': [44], 'rely': [45], 'expert-designed': [47], 'phase': [50, 107, 114], 'competition.': [51], 'In': [52], 'this': [53], 'paper,': [54], 'we': [55], 'present': [56], 'a': [57, 140], 'novel': [58], 'approach': [59], 'that': [62, 98], 'utilizes': [63], 'queue': [64, 90], 'length': [65], 'as': [66, 157, 159], 'an': [67, 80, 95], 'efficient': [68, 179], 'We': [71], 'propose': [72], 'two': [73], 'new': [74, 141], 'methods:': [75], '(1)': [76, 128], 'Max': [77], 'Queue-Length': [78], '(M-QL),': [79], 'optimization-based': [81], 'traditional': [82], 'method': [83, 131], 'designed': [84], 'based': [85], 'property': [88], 'length;': [91], 'and': [92, 144, 178], '(2)': [93, 137], 'AttentionLight,': [94], 'employs': [99], 'self-attention': [101], 'mechanism': [102], 'capture': [104], 'correlation': [108], 'without': [109], 'requiring': [110], 'human': [111], 'knowledge': [112], 'relationships.': [115], 'Comprehensive': [116], 'experiments': [117], 'multiple': [119], 'real-world': [120], 'datasets': [121], 'demonstrate': [122], 'effectiveness': [124], 'our': [126, 146], 'approach:': [127], 'M-QL': [130], 'outperforms': [132], 'latest': [134], 'methods;': [136], 'AttentionLight': [138], 'achieves': [139], 'state-of-the-art': [142], 'performance;': [143], '(3)': [145], 'results': [147], 'highlight': [148], 'representation,': [154], 'which': [155], 'is': [156, 184], 'crucial': [158], 'neural': [160], 'network': [161], 'design': [162], 'methods.': [165, 181], 'Our': [166, 182], 'findings': [167], 'important': [169], 'implications': [170], 'advancing': [172], 'development': [174], 'more': [176], 'effective': [177], 'code': [183], 'released': [185], 'Github': [187], '(https://github.': [188], 'com/LiangZhang1996/AttentionLight).': [189]}, 'cited_by_api_url': 'https://api.openalex.org/works?filter=cites:W4225463478', 'counts_by_year': [{'year': 2023, 'cited_by_count': 1}], 'updated_date': '2024-11-17T17:08:44.452670', 'created_date': '2022-05-05'}\n",
      "Author 1: Liang Zhang\n",
      "  Raw Affiliations: None\n",
      "  Institutions: None\n",
      "Author 2: Qiang Wu\n",
      "  Raw Affiliations: None\n",
      "  Institutions: None\n",
      "Author 3: Jianming Deng\n",
      "  Raw Affiliations: None\n",
      "  Institutions: None\n"
     ]
    }
   ],
   "source": [
    "import requests\n",
    "\n",
    "def query_openalex_by_id(arxiv_id):\n",
    "    url = f\"https://api.openalex.org/works/doi:10.48550/arxiv.{arxiv_id}\"\n",
    "    response = requests.get(url)\n",
    "    if response.status_code == 200:\n",
    "        return response.json()\n",
    "    else:\n",
    "        print(f\"Error {response.status_code}: {response.text}\")\n",
    "        return None\n",
    "\n",
    "arxiv_id = \"2201.00006\"\n",
    "result = query_openalex_by_id(arxiv_id)\n",
    "print(result)\n",
    "\n",
    "def extract_affiliations(response_data):\n",
    "    # Extract affiliation information from the response\n",
    "    affiliations = []\n",
    "    if \"authorships\" in response_data:\n",
    "        for author in response_data[\"authorships\"]:\n",
    "            author_name = author[\"author\"][\"display_name\"] if author.get(\"author\") else \"Unknown\"\n",
    "            raw_affiliations = author.get(\"raw_affiliation_strings\", [])\n",
    "            institutions = [\n",
    "                institution.get(\"display_name\") \n",
    "                for institution in author.get(\"institutions\", [])\n",
    "            ]\n",
    "            \n",
    "            affiliations.append({\n",
    "                \"author_name\": author_name,\n",
    "                \"raw_affiliations\": raw_affiliations,\n",
    "                \"institutions\": institutions\n",
    "            })\n",
    "    return affiliations\n",
    "\n",
    "# Example usage\n",
    "arxiv_id = \"2201.00006\"  # Replace with your arXiv ID\n",
    "response = query_openalex_by_id(arxiv_id)\n",
    "\n",
    "if response:\n",
    "    affiliations = extract_affiliations(response)\n",
    "    for idx, aff in enumerate(affiliations, start=1):\n",
    "        print(f\"Author {idx}: {aff['author_name']}\")\n",
    "        print(f\"  Raw Affiliations: {', '.join(aff['raw_affiliations']) if aff['raw_affiliations'] else 'None'}\")\n",
    "        print(f\"  Institutions: {', '.join(aff['institutions']) if aff['institutions'] else 'None'}\")\n"
   ]
  }
 ],
 "metadata": {
  "kernelspec": {
   "display_name": "Python 3",
   "language": "python",
   "name": "python3"
  },
  "language_info": {
   "codemirror_mode": {
    "name": "ipython",
    "version": 3
   },
   "file_extension": ".py",
   "mimetype": "text/x-python",
   "name": "python",
   "nbconvert_exporter": "python",
   "pygments_lexer": "ipython3",
   "version": "3.11.0"
  }
 },
 "nbformat": 4,
 "nbformat_minor": 2
}
